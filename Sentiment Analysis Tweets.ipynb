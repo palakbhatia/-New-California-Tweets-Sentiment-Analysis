{
 "cells": [
  {
   "cell_type": "code",
   "execution_count": 1,
   "metadata": {},
   "outputs": [],
   "source": [
    "import re"
   ]
  },
  {
   "cell_type": "code",
   "execution_count": 2,
   "metadata": {},
   "outputs": [],
   "source": [
    "# print all the outputs in a cell\n",
    "from IPython.core.interactiveshell import InteractiveShell\n",
    "InteractiveShell.ast_node_interactivity = \"all\""
   ]
  },
  {
   "cell_type": "markdown",
   "metadata": {},
   "source": [
    "#### Read all the positive, negative and stop words from the text files  and clean them by removing newline character"
   ]
  },
  {
   "cell_type": "code",
   "execution_count": 3,
   "metadata": {},
   "outputs": [],
   "source": [
    "pos=open(\"positive_words.txt\")\n",
    "pos_words=[]\n",
    "for line in pos:\n",
    "    pos_words.append(line.strip('\\n'))\n",
    "\n",
    "neg=open(\"negative_words.txt\") \n",
    "neg_words=[]\n",
    "for line in neg:\n",
    "    neg_words.append(line.strip('\\n'))\n",
    "\n",
    "stop=open(\"stop_words.txt\") \n",
    "stop_words = []\n",
    "for line in stop:\n",
    "    stop_words.append(line.strip('\\n'))"
   ]
  },
  {
   "cell_type": "markdown",
   "metadata": {},
   "source": [
    "#### Read the tweets with keyword \"New California\". Clean the tweets by\n",
    "     1. Converting to Lowercase\n",
    "     2. Removing Line Separators and word separators('-' or 'single-quotes')\n",
    "     3. Removing unicode characters\n",
    "     4. Removing any hyperlinks\n",
    "     5. Removing all words atrting with '@' or '#' or any other special character\n",
    "     6. Removing numbers from the tweets"
   ]
  },
  {
   "cell_type": "code",
   "execution_count": 4,
   "metadata": {},
   "outputs": [],
   "source": [
    "tweets = open(\"Sentiment Analysis New California.txt\", encoding = 'UTF-8')\n",
    "\n",
    "words = [] \n",
    "for line in tweets:\n",
    "    clean_tweet=line.lower() \n",
    "    clean_tweet=clean_tweet.strip('\\n')    \n",
    "    clean_tweet=clean_tweet.replace('-',' ') \n",
    "    clean_tweet=clean_tweet.replace('’','') \n",
    "    clean_tweet=re.sub(r'[^\\x00-\\x7f]',r' ', clean_tweet) \n",
    "    clean_tweet = re.sub(r'https?:\\/\\/.*\\/[a-zA-Z0-9]*', ' ', clean_tweet)\n",
    "    clean_tweet= re.sub('([@#][A-Za-z0-9]+)|([^0-9A-Za-z \\t+])|(\\w+:\\/\\/\\S+)',' ',clean_tweet)\n",
    "    clean_tweet = re.sub('[0-9]',' ',clean_tweet) \n",
    "    \n",
    "    ## Split into words and add each word to the words list\n",
    "    clean_tweet=clean_tweet.split()\n",
    "    words+=clean_tweet \n",
    "    "
   ]
  },
  {
   "cell_type": "markdown",
   "metadata": {},
   "source": [
    "#### Remove the stop words from the list of words"
   ]
  },
  {
   "cell_type": "code",
   "execution_count": 5,
   "metadata": {},
   "outputs": [],
   "source": [
    "final_words=[word for word in words if word not in stop_words]"
   ]
  },
  {
   "cell_type": "code",
   "execution_count": 6,
   "metadata": {},
   "outputs": [],
   "source": [
    "neg_count = 0     # stores number of negative words\n",
    "pos_count = 0     # stores number of postive words\n",
    "other_count = 0   # stores number of words which are niether positive nor negative"
   ]
  },
  {
   "cell_type": "code",
   "execution_count": 7,
   "metadata": {},
   "outputs": [],
   "source": [
    "for word in words:\n",
    "    if word in pos_words:\n",
    "        pos_count = pos_count + 1 \n",
    "    elif word in neg_words:\n",
    "        neg_count = neg_count + 1\n",
    "    else :\n",
    "        other_count = other_count + 1"
   ]
  },
  {
   "cell_type": "code",
   "execution_count": 8,
   "metadata": {},
   "outputs": [
    {
     "name": "stdout",
     "output_type": "stream",
     "text": [
      "The overall score for tweets containing the word \"Sentiment Analysis New California\" is: -281\n",
      "The score for positive words is: 1220\n",
      "The score for negative words is: 1501\n",
      "The ratio of positive words over negative words is: 0.8127914723517655\n"
     ]
    }
   ],
   "source": [
    "# Printing the results\n",
    "print ('The overall score for tweets containing the word \"' + str(tweets.name.rstrip('.txt')) + '\" is: ' + str(pos_count - neg_count))\n",
    "ratio_pos_neg=float(pos_count)/neg_count\n",
    "print ('The score for positive words is: '+str(pos_count))\n",
    "print ('The score for negative words is: '+str(neg_count))\n",
    "print ('The ratio of positive words over negative words is: ' +str(ratio_pos_neg))"
   ]
  },
  {
   "cell_type": "code",
   "execution_count": 11,
   "metadata": {},
   "outputs": [
    {
     "name": "stdout",
     "output_type": "stream",
     "text": [
      "The tweets are strongly negative\n"
     ]
    }
   ],
   "source": [
    "total_count = pos_count + neg_count\n",
    "positive_ratio=float(pos_count)/total_count\n",
    "if (positive_ratio >= 85) :\n",
    "        print (\"The tweets are strongly positive\")\n",
    "elif (positive_ratio >= 60) :\n",
    "    print (\"The tweets are positive but not strongly positive\")\n",
    "elif (positive_ratio >= 40) :\n",
    "    print (\"The tweets are neutral\")\n",
    "elif (positive_ratio >= 15) :\n",
    "    print (\"The tweets are negative but not strongly negative\")\n",
    "else :\n",
    "    print (\"The tweets are strongly negative\")"
   ]
  },
  {
   "cell_type": "markdown",
   "metadata": {},
   "source": [
    "#### Final Analysis:\n",
    "From the above results, we can say that less than 15% of the total tweets are positive. The reaction to creating a 51st state in the US is mostly negative. "
   ]
  },
  {
   "cell_type": "markdown",
   "metadata": {},
   "source": [
    "#### Close the tweets, positive words, negative words, stop words file before exit"
   ]
  },
  {
   "cell_type": "code",
   "execution_count": 10,
   "metadata": {},
   "outputs": [],
   "source": [
    "tweets.close()\n",
    "pos.close()\n",
    "neg.close()\n",
    "stop.close()"
   ]
  }
 ],
 "metadata": {
  "anaconda-cloud": {},
  "kernelspec": {
   "display_name": "Python [conda env:Anaconda3]",
   "language": "python",
   "name": "conda-env-Anaconda3-py"
  },
  "language_info": {
   "codemirror_mode": {
    "name": "ipython",
    "version": 3
   },
   "file_extension": ".py",
   "mimetype": "text/x-python",
   "name": "python",
   "nbconvert_exporter": "python",
   "pygments_lexer": "ipython3",
   "version": "3.6.5"
  }
 },
 "nbformat": 4,
 "nbformat_minor": 1
}
